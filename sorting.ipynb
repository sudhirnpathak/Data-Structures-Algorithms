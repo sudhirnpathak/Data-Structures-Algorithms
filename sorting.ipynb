{
 "cells": [
  {
   "cell_type": "markdown",
   "metadata": {},
   "source": [
    "# Sorting"
   ]
  },
  {
   "cell_type": "markdown",
   "metadata": {},
   "source": [
    "### Selection Sort"
   ]
  },
  {
   "cell_type": "code",
   "execution_count": 1,
   "metadata": {},
   "outputs": [],
   "source": [
    "def selection_sort(A):\n",
    "    \n",
    "    for i in range(len(A)-1):\n",
    "        \n",
    "        minIndex = i\n",
    "        \n",
    "        for j in range(i+1, len(A)):\n",
    "            if A[j] < A[minIndex]:\n",
    "                minIndex = j\n",
    "                \n",
    "        if i != minIndex:\n",
    "            A[i], A[minIndex] = A[minIndex], A[i]\n",
    "    \n",
    "    return A\n",
    "\n",
    "A = [7, 8, 5, 4, 9, 2]\n",
    "sortedA = selection_sort(A)\n",
    "print(sortedA)"
   ]
  },
  {
   "cell_type": "markdown",
   "metadata": {},
   "source": [
    "### Bubble Sort"
   ]
  },
  {
   "cell_type": "code",
   "execution_count": 2,
   "metadata": {},
   "outputs": [],
   "source": [
    "def bubble_sort(A):\n",
    "    \n",
    "    for i in range(len(A)-1):                      # maximum number of iterations required\n",
    "        for j in range(0,len(A)-1-i):\n",
    "            if A[j] > A[j+1]:\n",
    "                A[j], A[j+1] = A[j+1], A[j]\n",
    "    \n",
    "    \n",
    "    return A\n",
    "\n",
    "A = [7, 8, 5, 4, 9, 2]\n",
    "sortedA = bubble_sort(A)\n",
    "print(sortedA)"
   ]
  },
  {
   "cell_type": "markdown",
   "metadata": {},
   "source": [
    "Since every iteration bubbles out the largest value from the unsorted section, the maximum iterations needed in len(A) -1\n",
    "<br> The above code can be made efficient by stopping the outer loop at that particular iteration at which no swapping happened. \n",
    "<br> At this iteration, the list was already sorted out."
   ]
  },
  {
   "cell_type": "code",
   "execution_count": 3,
   "metadata": {},
   "outputs": [
    {
     "name": "stdout",
     "output_type": "stream",
     "text": [
      "Number of passes required =  3 , out of the maximum =  5\n",
      "[2, 4, 5, 7, 8, 9]\n"
     ]
    }
   ],
   "source": [
    "def bubble_sort(A):\n",
    "    \n",
    "    for i in range(len(A)-1):                      # maximum number of iterations required\n",
    "        \n",
    "        swapFlag = False\n",
    "    \n",
    "        for j in range(0,len(A)-1-i):\n",
    "            if A[j] > A[j+1]:\n",
    "                A[j], A[j+1] = A[j+1], A[j]\n",
    "                swapFlag = True                    # swapping occurs\n",
    "        \n",
    "        if swapFlag == False:\n",
    "            print('Number of passes required = ', i+1, ', out of the maximum = ', len(A)-1)\n",
    "            break\n",
    "     \n",
    "    return A\n",
    "\n",
    "A = [2, 4, 5, 9, 8, 7]\n",
    "sortedA = bubble_sort(A)\n",
    "print(sortedA)"
   ]
  },
  {
   "cell_type": "markdown",
   "metadata": {},
   "source": [
    "### Insertion Sort"
   ]
  },
  {
   "cell_type": "code",
   "execution_count": 4,
   "metadata": {},
   "outputs": [
    {
     "name": "stdout",
     "output_type": "stream",
     "text": [
      "[2, 4, 5, 7, 8, 9]\n"
     ]
    }
   ],
   "source": [
    "def insertion_sort(A):\n",
    "    \n",
    "    for i in range(1, len(A)):\n",
    "        \n",
    "        currentNumber = A[i]\n",
    "        j = i-1\n",
    "        while A[j] > currentNumber and j >= 0:\n",
    "            A[j+1] = A[j]\n",
    "            j -= 1\n",
    "        A[j+1] = currentNumber\n",
    "    \n",
    "    return A\n",
    "\n",
    "A = [7, 8, 5, 4, 9, 2]\n",
    "sortedA = insertion_sort(A)\n",
    "print(sortedA)"
   ]
  },
  {
   "cell_type": "markdown",
   "metadata": {},
   "source": [
    "**Merging two sorted arrays**"
   ]
  },
  {
   "cell_type": "code",
   "execution_count": 18,
   "metadata": {},
   "outputs": [],
   "source": [
    "def merge_sortedLists(list1, list2):\n",
    "    \n",
    "    i = 0\n",
    "    j = 0\n",
    "    \n",
    "    mergedList = []\n",
    "    \n",
    "    while (i < len(list1)) & (j < len(list2)):\n",
    "        if list1[i] <= list2[j]:\n",
    "            mergedList.append(list1[i])\n",
    "            i += 1\n",
    "        else:\n",
    "            mergedList.append(list2[j])\n",
    "            j += 1\n",
    "            \n",
    "    if i == len(list1):\n",
    "        while j < len(list2):\n",
    "            mergedList.append(list2[j])\n",
    "            j +=1 \n",
    "    else:\n",
    "        while i < len(list1):\n",
    "            mergedList.append(list1[i])\n",
    "            i += 1\n",
    "            \n",
    "    return mergedList"
   ]
  },
  {
   "cell_type": "code",
   "execution_count": 19,
   "metadata": {},
   "outputs": [
    {
     "name": "stdout",
     "output_type": "stream",
     "text": [
      "[1, 2, 3, 4, 5, 6, 7, 8, 9]\n",
      "[1, 2, 3, 4, 5, 6, 7, 8, 9, 10]\n"
     ]
    }
   ],
   "source": [
    "list1 = [1, 3, 5, 7, 9]\n",
    "list2 = [2, 4, 6, 8, 10]\n",
    "mergedList = merge_sortedLists(list1, list2)\n",
    "print(mergedList)"
   ]
  },
  {
   "cell_type": "code",
   "execution_count": null,
   "metadata": {},
   "outputs": [],
   "source": []
  }
 ],
 "metadata": {
  "kernelspec": {
   "display_name": "Python 3",
   "language": "python",
   "name": "python3"
  },
  "language_info": {
   "codemirror_mode": {
    "name": "ipython",
    "version": 3
   },
   "file_extension": ".py",
   "mimetype": "text/x-python",
   "name": "python",
   "nbconvert_exporter": "python",
   "pygments_lexer": "ipython3",
   "version": "3.7.4"
  },
  "varInspector": {
   "cols": {
    "lenName": 16,
    "lenType": 16,
    "lenVar": 40
   },
   "kernels_config": {
    "python": {
     "delete_cmd_postfix": "",
     "delete_cmd_prefix": "del ",
     "library": "var_list.py",
     "varRefreshCmd": "print(var_dic_list())"
    },
    "r": {
     "delete_cmd_postfix": ") ",
     "delete_cmd_prefix": "rm(",
     "library": "var_list.r",
     "varRefreshCmd": "cat(var_dic_list()) "
    }
   },
   "types_to_exclude": [
    "module",
    "function",
    "builtin_function_or_method",
    "instance",
    "_Feature"
   ],
   "window_display": false
  }
 },
 "nbformat": 4,
 "nbformat_minor": 2
}
