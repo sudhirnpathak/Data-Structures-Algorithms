{
 "cells": [
  {
   "cell_type": "markdown",
   "metadata": {},
   "source": [
    "# Single Linked List"
   ]
  },
  {
   "cell_type": "markdown",
   "metadata": {},
   "source": [
    "Node class: whenever we create a new Node instance, info will be initialized to the value we send as argument, and link will be None."
   ]
  },
  {
   "cell_type": "code",
   "execution_count": 1,
   "metadata": {},
   "outputs": [],
   "source": [
    "class node:                         # class representing a node of the single linked list\n",
    "    \n",
    "    def __init__(self, value):\n",
    "        self.info = value           # attribute info represents the actual data that has to be stored in the list\n",
    "        self.link = None            # attribute link will refer to the next node"
   ]
  },
  {
   "cell_type": "markdown",
   "metadata": {},
   "source": [
    "Single Linked List class:"
   ]
  },
  {
   "cell_type": "code",
   "execution_count": 2,
   "metadata": {},
   "outputs": [],
   "source": [
    "class single_linked_list:\n",
    "    \n",
    "    def __init__(self):                    # attribute start refers to the first node of the linked list\n",
    "        \n",
    "        self.start = None                  # each single_linked_list instance will maintain a single reference \n",
    "                                           # to the first node of the list\n",
    "                                           # we initialized start to None, and will update when elements gets added\n",
    "            \n",
    "                                           # linked-list class itself does not contain any node object\n",
    "                                           # it only contains a single reference to the first node of the list\n",
    "                    \n",
    "    \n",
    "    def display_list(self):                # displays the elements of the list\n",
    "        \n",
    "        if self.start is None:\n",
    "            print('List is empty')\n",
    "            return\n",
    "        else:\n",
    "            p = self.start\n",
    "            while p is not None:\n",
    "                print(p.info, end = ' ')                 # p.info gives the value at current node\n",
    "                p = p.link                               # p.link takes us to the next node\n",
    "            print('\\n')\n",
    "    \n",
    "    \n",
    "    def count_nodes(self):                    # counts the number of elements in the list\n",
    "        \n",
    "        n = 0\n",
    "        p = self.start\n",
    "        while p is not None:\n",
    "            n += 1\n",
    "            p = p.link\n",
    "        print('Number of nodes in the list = ', n)\n",
    "    \n",
    "    \n",
    "    def search(self, x):                      # search for a value in list\n",
    "        \n",
    "        flag = False\n",
    "        \n",
    "        p = self.start\n",
    "        while p is not None:\n",
    "            if p.info == x:\n",
    "                print('Element exists:', x)\n",
    "                flag = True\n",
    "            p = p.link\n",
    "        \n",
    "        if flag == False:\n",
    "            print('Element does not exist:', x)\n",
    "    \n",
    "    \n",
    "    def insert_in_beginning(self, data):     # insert a new node in the beginning of the list\n",
    "        \n",
    "        temp = node(data)\n",
    "        temp.link = self.start\n",
    "        self.start = temp\n",
    "    \n",
    "    \n",
    "    def insert_at_end(self, data):           # insert a new node at the end of the list\n",
    "        \n",
    "        temp = node(data)\n",
    "        if self.start is None:\n",
    "            self.start = temp\n",
    "            return\n",
    "        \n",
    "        p = self.start\n",
    "        while p.link is not None:            # p.link refers to the next item in the list\n",
    "            p = p.link\n",
    "        p.link = temp\n",
    "    \n",
    "    \n",
    "    def create_list(self, elements):                   # creates a list\n",
    "        \n",
    "        for i in elements:\n",
    "            self.insert_at_end(i)\n",
    "    \n",
    "    \n",
    "    def insert_after(self, data, x):         # insert a new node after a given node\n",
    "        \n",
    "        p = self.start\n",
    "        while p is not None:\n",
    "            if p.info == x:\n",
    "                break\n",
    "            p = p.link\n",
    "            \n",
    "        if p is None:\n",
    "            print(x, 'not present in the list')\n",
    "        else:\n",
    "            temp = node(data)\n",
    "            temp.link = p.link\n",
    "            p.link = temp\n",
    "    \n",
    "    \n",
    "    def insert_before(self, data, x):        # insert a new node before a given node\n",
    "        \n",
    "        if self.start is None:               # if list is empty\n",
    "            print('List is empty')\n",
    "            return\n",
    "        \n",
    "        if x == self.start.info:             # if x is in the first node\n",
    "            temp = node(data)\n",
    "            temp.link = self.start\n",
    "            self.start = temp\n",
    "            return\n",
    "        \n",
    "        temp = node(data)\n",
    "        p = self.start\n",
    "        while p.link is not None:\n",
    "            if p.link.info == x:\n",
    "                break\n",
    "            p = p.link\n",
    "        \n",
    "        if p.link is None:\n",
    "            print(x, 'not present in the list')\n",
    "        else:\n",
    "            temp = node(data)\n",
    "            temp.link = p.link\n",
    "            p.link = temp\n",
    "                 \n",
    "    \n",
    "    def insert_at_position(self, data, k):   # insert a new node at a given position\n",
    "        \n",
    "        if k == 1:\n",
    "            temp = node(data)\n",
    "            temp.link = self.start\n",
    "            self.start = temp\n",
    "            return\n",
    "               \n",
    "        i = 1\n",
    "        p = self.start\n",
    "        while i < k-1 and p is not None:\n",
    "            p = p.link\n",
    "            i += 1\n",
    "            \n",
    "        if p is None:\n",
    "            print('We can inset only upto position ', i)\n",
    "        else:\n",
    "            temp = node(data)\n",
    "            temp.link = p.link\n",
    "            p.link = temp\n",
    "    \n",
    "    \n",
    "    def delete_node(self, x):                # deletes the node cotaining value x\n",
    "        \n",
    "        if self.start is None:\n",
    "            print('List is empty')\n",
    "            return\n",
    "        \n",
    "        if self.start.info == x:             # deletion of first node\n",
    "            self.start = self.start.link\n",
    "            return\n",
    "        \n",
    "        p = self.start\n",
    "        while p.link is not None:\n",
    "            if p.link.info == x:\n",
    "                break\n",
    "            p = p.link\n",
    "            \n",
    "        if p.link is None:\n",
    "            print(x, 'not in the list')\n",
    "        else:\n",
    "            p.link = p.link.link\n",
    "    \n",
    "    \n",
    "    def delete_first_node(self):             # deletes the first node of the list\n",
    "        \n",
    "        if self.start is None:\n",
    "            return\n",
    "        self.start = self.start.link\n",
    "    \n",
    "    \n",
    "    def delete_last_node(self):              # deletes last node of the list\n",
    "        \n",
    "        if self.start is None:\n",
    "            return\n",
    "        \n",
    "        if self.start.link is None:          # if link has only one element\n",
    "            self.start = None\n",
    "            return\n",
    "        \n",
    "        p = self.start\n",
    "        while p.link.link is not None:\n",
    "            p = p.link\n",
    "        p.link = None\n",
    "        \n",
    "    \n",
    "    def reverse_list(self):                  # reverses the list\n",
    "        \n",
    "        prev = None\n",
    "        p = self.start\n",
    "        while p is not None:\n",
    "            nexxt = p.link\n",
    "            p.link = prev\n",
    "            prev = p\n",
    "            p = nexxt\n",
    "        self.start = prev\n",
    "        \n",
    "    \n",
    "    def bubble_sort_exdata(self):            # bubble sorts the data, by exchanging data\n",
    "        \n",
    "        end = None                           # the first round of bubble sort goes upto the second-last element\n",
    "        \n",
    "        while end != self.start.link:        # continue till end reaches to the second element\n",
    "            \n",
    "            p = self.start\n",
    "            while p.link != end:\n",
    "                q = p.link\n",
    "                if p.info > q.info:\n",
    "                    p.info, q.info = q.info, p.info\n",
    "                p = p.link\n",
    "                \n",
    "            end = p                          # shifting end backwards\n",
    "        \n",
    "           \n",
    "    def bubble_sort_exlinks(self):           # bubble sorts the data, by exchanging links\n",
    "        \n",
    "        end = None\n",
    "        \n",
    "        while end != self.start.link:         \n",
    "            \n",
    "            r = p = self.start                      # think of r, p, q being three consecutive nodes\n",
    "            while p.link != end:                    # r: previous node, p = present node, q = next node\n",
    "                q = p.link\n",
    "                if p.info > q.info:                 # if true, we reassign the link, making the order r, q, p\n",
    "                    p.link = q.link\n",
    "                    q.link = p\n",
    "                    if p != self.start:             # r needs to be updated only when p is not the first node\n",
    "                        r.link = q\n",
    "                    else:\n",
    "                        self.start = q              # if p is first node, self.start has to be update\n",
    "                    p, q = q, p                     # just name exchange, making it r, p, q: to carry on the loop\n",
    "                r = p\n",
    "                p = p.link\n",
    "            \n",
    "            end = p\n",
    "\n",
    "            \n",
    "    def merge_twoSortedLists_newList(self, list2):      # merging two sorted linked list by creating a new list\n",
    "                                                        # merges sorted linked list, with the sorted linked list2\n",
    "                                                        # list2 is sent as an argument\n",
    "        \n",
    "        merge_list = single_linked_list()           # allocate a new single linked list instance object\n",
    "        merge_list.start = self._merge_twoSortedLists_newList(self.start, list2.start)\n",
    "        return merge_list\n",
    "    \n",
    "    \n",
    "    # In this method (_merge_twoSortedLists_newList), we create a merged list\n",
    "    def _merge_twoSortedLists_newList(self, p1, p2):  # p1, p2 are references to the first nodes of the sorted lists\n",
    "        \n",
    "        if p1.info <= p2.info:                   \n",
    "            startM = node(p1.info)\n",
    "            p1 = p1.link                    # startM will refer to the first node of the merged list\n",
    "        else:                               # this startM will be returned in the end, after merging the lists\n",
    "            startM = node(p2.info)\n",
    "            p2 = p2.link\n",
    "        \n",
    "        pM = startM                         # this always refers to the newly inserted node of the merged list\n",
    "        \n",
    "        while p1 is not None and p2 is not None:      # advancing either (p1, p2) and pM\n",
    "            if p1.info <= p2.info:\n",
    "                pM.link = node(p1.info)\n",
    "                p1 = p1.link\n",
    "            else:\n",
    "                pM.link = node(p2.info)\n",
    "                p2 = p2.link\n",
    "            pM = pM.link\n",
    "        \n",
    "        while p1 is not None:                  # if second list got terminated first\n",
    "            pM.link = node(p1.info)\n",
    "            p1 = p1.link\n",
    "            pM = pM.link\n",
    "            \n",
    "        while p2 is not None:                  # if first list got terminated first\n",
    "            pM.link = node(p2.info)\n",
    "            p2 = p2.link\n",
    "            pM = pM.link\n",
    "            \n",
    "        return startM\n",
    "\n",
    "    \n",
    "    def merge_twoSortedLists_arrangeLinks(self, list2):   # merging two sorted linked lists by rearranging links\n",
    "        \n",
    "        merge_list = single_linked_list()\n",
    "        merge_list.start = self._merge_twoSortedLists_arrangeLinks(self.start, list2.start)\n",
    "        return merge_list\n",
    "    \n",
    "    def _merge_twoSortedLists_arrangeLinks(self, p1, p2):\n",
    "        \n",
    "        if p1.info <= p2.info:\n",
    "            startM = p1\n",
    "            p1 = p1.link\n",
    "        else:\n",
    "            startM = p2\n",
    "            p2 = p2.link\n",
    "            \n",
    "        pM = startM\n",
    "        \n",
    "        while p1 is not None and p2 is not None:\n",
    "            if p1.info <= p2.info:\n",
    "                pM.link = p1\n",
    "                pM = pM.link\n",
    "                p1 = p1.link\n",
    "            else:\n",
    "                pM.link = p2\n",
    "                pM = pM.link\n",
    "                p2 = p2.link\n",
    "                \n",
    "        if p1 is None:\n",
    "            pM.link = p2\n",
    "        else:\n",
    "            pM.link = p1\n",
    "            \n",
    "        return startM\n",
    "    \n",
    "         \n",
    "    def has_cycle(self):\n",
    "        pass\n",
    "    \n",
    "    def find_cycle(self):                    # detecting a cycle\n",
    "        pass\n",
    "    \n",
    "    def remove_cycle(self):                  # removing a cycle\n",
    "        pass\n",
    "    \n",
    "    def insert_cycle(self, x):               # inserting a cycle\n",
    "        pass\n",
    "    \n",
    "    def merge2(self, list2):                 # merging the list\n",
    "        pass\n",
    "    \n",
    "    def _merge2(self, p1, p2):               # merging the list\n",
    "        pass\n",
    "    \n",
    "    def merge_sort(self):\n",
    "        pass\n",
    "    \n",
    "    def _merge_sort_rec(self, listStart):    # sorting the list using merge sort\n",
    "        pass\n",
    "    \n",
    "    def _divide_list(self, p):\n",
    "        pass"
   ]
  },
  {
   "cell_type": "markdown",
   "metadata": {},
   "source": [
    "**Basics: creating, displaying, counting, searching**"
   ]
  },
  {
   "cell_type": "code",
   "execution_count": 3,
   "metadata": {},
   "outputs": [
    {
     "name": "stdout",
     "output_type": "stream",
     "text": [
      "10 23 32 \n",
      "\n"
     ]
    }
   ],
   "source": [
    "clist = single_linked_list()                # we create a single_linked_list instance object\n",
    "clist_elements = [10, 23, 32]\n",
    "clist.create_list(clist_elements)\n",
    "clist.display_list()                        # displaying the elements of the linked-list"
   ]
  },
  {
   "cell_type": "code",
   "execution_count": 4,
   "metadata": {},
   "outputs": [
    {
     "data": {
      "text/plain": [
       "10"
      ]
     },
     "execution_count": 4,
     "metadata": {},
     "output_type": "execute_result"
    }
   ],
   "source": [
    "clist.start.info                            # start refers to the first node of the list"
   ]
  },
  {
   "cell_type": "code",
   "execution_count": 5,
   "metadata": {},
   "outputs": [
    {
     "name": "stdout",
     "output_type": "stream",
     "text": [
      "Number of nodes in the list =  3\n"
     ]
    }
   ],
   "source": [
    "count = clist.count_nodes()                 # count the number of elements in the list"
   ]
  },
  {
   "cell_type": "code",
   "execution_count": 6,
   "metadata": {},
   "outputs": [
    {
     "name": "stdout",
     "output_type": "stream",
     "text": [
      "Element exists: 10\n",
      "Element does not exist: 20\n"
     ]
    }
   ],
   "source": [
    "clist.search(10)                            # search whether this element exists or not\n",
    "clist.search(20)"
   ]
  },
  {
   "cell_type": "markdown",
   "metadata": {},
   "source": [
    "**Inserting nodes**"
   ]
  },
  {
   "cell_type": "code",
   "execution_count": 7,
   "metadata": {},
   "outputs": [
    {
     "name": "stdout",
     "output_type": "stream",
     "text": [
      "5 10 20 30 \n",
      "\n"
     ]
    }
   ],
   "source": [
    "clist = single_linked_list()\n",
    "clist_elements = [10, 20 ,30]\n",
    "clist.create_list(clist_elements)\n",
    "\n",
    "clist.insert_in_beginning(5)               # adding an element in the beginning of the list\n",
    "clist.display_list()"
   ]
  },
  {
   "cell_type": "code",
   "execution_count": 8,
   "metadata": {},
   "outputs": [
    {
     "name": "stdout",
     "output_type": "stream",
     "text": [
      "5 10 20 30 15 \n",
      "\n"
     ]
    }
   ],
   "source": [
    "clist.insert_at_end(15)\n",
    "clist.display_list()"
   ]
  },
  {
   "cell_type": "code",
   "execution_count": 9,
   "metadata": {},
   "outputs": [
    {
     "name": "stdout",
     "output_type": "stream",
     "text": [
      "5 10 20 21 30 15 \n",
      "\n"
     ]
    }
   ],
   "source": [
    "clist.insert_after(21, 20)               # inserting 21, after 20\n",
    "clist.display_list()"
   ]
  },
  {
   "cell_type": "code",
   "execution_count": 10,
   "metadata": {},
   "outputs": [
    {
     "name": "stdout",
     "output_type": "stream",
     "text": [
      "5 10 20 21 30 14 15 \n",
      "\n"
     ]
    }
   ],
   "source": [
    "clist.insert_before(14, 15)              # inserting 14, before 15\n",
    "clist.display_list()"
   ]
  },
  {
   "cell_type": "code",
   "execution_count": 11,
   "metadata": {},
   "outputs": [
    {
     "name": "stdout",
     "output_type": "stream",
     "text": [
      "5 10 20 19 21 30 14 15 \n",
      "\n"
     ]
    }
   ],
   "source": [
    "clist.insert_at_position(19, 4)         # inserting 19 as the 4th element of the linked list\n",
    "clist.display_list()"
   ]
  },
  {
   "cell_type": "markdown",
   "metadata": {},
   "source": [
    "**Deleting nodes**"
   ]
  },
  {
   "cell_type": "code",
   "execution_count": 12,
   "metadata": {},
   "outputs": [
    {
     "name": "stdout",
     "output_type": "stream",
     "text": [
      "5 10 20 25 \n",
      "\n"
     ]
    }
   ],
   "source": [
    "clist = single_linked_list()\n",
    "clist_elements =[5, 10, 15, 20, 25]\n",
    "clist.create_list(clist_elements)\n",
    "\n",
    "clist.delete_node(15)\n",
    "clist.display_list()"
   ]
  },
  {
   "cell_type": "code",
   "execution_count": 13,
   "metadata": {},
   "outputs": [
    {
     "name": "stdout",
     "output_type": "stream",
     "text": [
      "10 20 25 \n",
      "\n"
     ]
    }
   ],
   "source": [
    "clist.delete_first_node()\n",
    "clist.display_list()"
   ]
  },
  {
   "cell_type": "code",
   "execution_count": 14,
   "metadata": {},
   "outputs": [
    {
     "name": "stdout",
     "output_type": "stream",
     "text": [
      "10 20 \n",
      "\n"
     ]
    }
   ],
   "source": [
    "clist.delete_last_node()\n",
    "clist.display_list()"
   ]
  },
  {
   "cell_type": "markdown",
   "metadata": {},
   "source": [
    "**Reversing**"
   ]
  },
  {
   "cell_type": "code",
   "execution_count": 15,
   "metadata": {},
   "outputs": [
    {
     "name": "stdout",
     "output_type": "stream",
     "text": [
      "8 6 4 2 \n",
      "\n"
     ]
    }
   ],
   "source": [
    "clist = single_linked_list()\n",
    "clist_elements = [2, 4, 6, 8]\n",
    "clist.create_list(clist_elements)\n",
    "\n",
    "clist.reverse_list()\n",
    "clist.display_list()"
   ]
  },
  {
   "cell_type": "markdown",
   "metadata": {},
   "source": [
    "**Bubble sort**"
   ]
  },
  {
   "cell_type": "code",
   "execution_count": 16,
   "metadata": {},
   "outputs": [
    {
     "name": "stdout",
     "output_type": "stream",
     "text": [
      "1 3 4 5 77 88 \n",
      "\n"
     ]
    }
   ],
   "source": [
    "clist = single_linked_list()                          # sorting by exchanging data\n",
    "clist_elements = [3, 4, 1, 77, 5, 88]\n",
    "clist.create_list(clist_elements)\n",
    "\n",
    "clist.bubble_sort_exdata()\n",
    "clist.display_list()"
   ]
  },
  {
   "cell_type": "code",
   "execution_count": 17,
   "metadata": {},
   "outputs": [
    {
     "name": "stdout",
     "output_type": "stream",
     "text": [
      "1 3 4 5 77 88 \n",
      "\n"
     ]
    }
   ],
   "source": [
    "clist = single_linked_list()                          # sorting by exchanging links\n",
    "clist_elements = [3, 4, 1, 77, 5, 88]\n",
    "clist.create_list(clist_elements)\n",
    "\n",
    "clist.bubble_sort_exlinks()\n",
    "clist.display_list()"
   ]
  },
  {
   "cell_type": "markdown",
   "metadata": {},
   "source": [
    "**Merging two sorted linked lists**"
   ]
  },
  {
   "cell_type": "code",
   "execution_count": 18,
   "metadata": {},
   "outputs": [
    {
     "name": "stdout",
     "output_type": "stream",
     "text": [
      "0 1 3 4 9 \n",
      "\n",
      "2 5 5 6 7 8 \n",
      "\n",
      "0 1 2 3 4 5 5 6 7 8 9 \n",
      "\n"
     ]
    }
   ],
   "source": [
    "list1 = single_linked_list()                           # merging by creating a new linked list\n",
    "list1_elements = [0, 3, 9, 4, 1]\n",
    "list1.create_list(list1_elements)\n",
    "list1.bubble_sort_exdata()\n",
    "list1.display_list()\n",
    "\n",
    "list2 = single_linked_list()\n",
    "list2_elements = [5, 2, 8, 6, 7, 5]\n",
    "list2.create_list(list2_elements)\n",
    "list2.bubble_sort_exdata()\n",
    "list2.display_list()\n",
    "\n",
    "merged_list = list1.merge_twoSortedLists_newList(list2)\n",
    "merged_list.display_list()"
   ]
  },
  {
   "cell_type": "code",
   "execution_count": 19,
   "metadata": {},
   "outputs": [
    {
     "name": "stdout",
     "output_type": "stream",
     "text": [
      "0 1 3 4 9 \n",
      "\n",
      "2 5 5 6 7 8 \n",
      "\n",
      "0 1 2 3 4 5 5 6 7 8 9 \n",
      "\n"
     ]
    }
   ],
   "source": [
    "list1 = single_linked_list()                           # merging by rearranging links\n",
    "list1_elements = [0, 3, 9, 4, 1]\n",
    "list1.create_list(list1_elements)\n",
    "list1.bubble_sort_exdata()\n",
    "list1.display_list()\n",
    "\n",
    "list2 = single_linked_list()\n",
    "list2_elements = [5, 2, 8, 6, 7, 5]\n",
    "list2.create_list(list2_elements)\n",
    "list2.bubble_sort_exdata()\n",
    "list2.display_list()\n",
    "\n",
    "merged_list = list1.merge_twoSortedLists_arrangeLinks(list2)\n",
    "merged_list.display_list()"
   ]
  }
 ],
 "metadata": {
  "kernelspec": {
   "display_name": "Python 3",
   "language": "python",
   "name": "python3"
  },
  "language_info": {
   "codemirror_mode": {
    "name": "ipython",
    "version": 3
   },
   "file_extension": ".py",
   "mimetype": "text/x-python",
   "name": "python",
   "nbconvert_exporter": "python",
   "pygments_lexer": "ipython3",
   "version": "3.7.4"
  },
  "varInspector": {
   "cols": {
    "lenName": 16,
    "lenType": 16,
    "lenVar": 40
   },
   "kernels_config": {
    "python": {
     "delete_cmd_postfix": "",
     "delete_cmd_prefix": "del ",
     "library": "var_list.py",
     "varRefreshCmd": "print(var_dic_list())"
    },
    "r": {
     "delete_cmd_postfix": ") ",
     "delete_cmd_prefix": "rm(",
     "library": "var_list.r",
     "varRefreshCmd": "cat(var_dic_list()) "
    }
   },
   "types_to_exclude": [
    "module",
    "function",
    "builtin_function_or_method",
    "instance",
    "_Feature"
   ],
   "window_display": false
  }
 },
 "nbformat": 4,
 "nbformat_minor": 2
}
