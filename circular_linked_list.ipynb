{
 "cells": [
  {
   "cell_type": "markdown",
   "metadata": {},
   "source": [
    "# Circular Linked List"
   ]
  },
  {
   "cell_type": "markdown",
   "metadata": {},
   "source": [
    "First, let's define the node class"
   ]
  },
  {
   "cell_type": "code",
   "execution_count": 1,
   "metadata": {},
   "outputs": [],
   "source": [
    "class node:\n",
    "    \n",
    "    def __init__(self, value):\n",
    "        self.info = value\n",
    "        self.link = None"
   ]
  },
  {
   "cell_type": "markdown",
   "metadata": {},
   "source": [
    "Now, lets define the circular linked list class"
   ]
  },
  {
   "cell_type": "code",
   "execution_count": 2,
   "metadata": {},
   "outputs": [],
   "source": [
    "class circular_linked_list:\n",
    "    \n",
    "    def __init__(self):\n",
    "        self.last = None\n",
    "        \n",
    "    \n",
    "    def display_list(self):\n",
    "        \n",
    "        if self.last == None:\n",
    "            print('List is empty')\n",
    "            return\n",
    "        else:\n",
    "            p = self.last.link                 # refering to the first node of the list\n",
    "            while True:\n",
    "                print(p.info, end = ' ')\n",
    "                p = p.link\n",
    "                if p == self.last.link:\n",
    "                    break\n",
    "            print()\n",
    "            \n",
    "            \n",
    "    def insert_in_beginning(self, data):\n",
    "        \n",
    "        temp = node(data)\n",
    "        temp.link = self.last.link\n",
    "        self.last.link = temp\n",
    "        \n",
    "        \n",
    "    def insert_in_empty_list(self, data):\n",
    "        \n",
    "        temp = node(data)\n",
    "        self.last = temp\n",
    "        self.last.link = self.last\n",
    "        \n",
    "    \n",
    "    def insert_at_end(self, data):\n",
    "        \n",
    "        temp = node(data)\n",
    "        temp.link = self.last.link\n",
    "        self.last.link = temp\n",
    "        self.last = temp\n",
    "    \n",
    "    \n",
    "    def create_list(self, elements):\n",
    "        \n",
    "        if len(elements) == 0:\n",
    "            print('No list created')\n",
    "        else:\n",
    "            self.insert_in_empty_list(elements[0])\n",
    "            for i in range(1, len(elements)):\n",
    "                self.insert_at_end(elements[i])\n",
    "                \n",
    "                \n",
    "    def insert_after(self, data, x):                # insert a node after the node containing x\n",
    "        \n",
    "        p = self.last.link\n",
    "        while True:\n",
    "            if p.info == x:\n",
    "                break\n",
    "            p = p.link\n",
    "            if p == self.last.link:\n",
    "                break\n",
    "                \n",
    "        if p == self.last.link and p.info != x:\n",
    "            print('Element not present in the list', x)\n",
    "        else:\n",
    "            temp = node(data)\n",
    "            temp.link = p.link\n",
    "            p.link = temp\n",
    "            if p == self.last:\n",
    "                self.last = temp"
   ]
  },
  {
   "cell_type": "markdown",
   "metadata": {},
   "source": [
    "**Creating a list**"
   ]
  },
  {
   "cell_type": "code",
   "execution_count": 3,
   "metadata": {},
   "outputs": [
    {
     "name": "stdout",
     "output_type": "stream",
     "text": [
      "2 4 6 8 10 \n"
     ]
    }
   ],
   "source": [
    "clist = circular_linked_list()\n",
    "clist_elements = [2, 4, 6, 8, 10]\n",
    "clist.create_list(clist_elements)\n",
    "clist.display_list()"
   ]
  },
  {
   "cell_type": "markdown",
   "metadata": {},
   "source": [
    "**Inserting in list**"
   ]
  },
  {
   "cell_type": "code",
   "execution_count": 4,
   "metadata": {},
   "outputs": [
    {
     "name": "stdout",
     "output_type": "stream",
     "text": [
      "1 2 4 6 8 10 \n"
     ]
    }
   ],
   "source": [
    "clist.insert_in_beginning(1)\n",
    "clist.display_list()"
   ]
  },
  {
   "cell_type": "code",
   "execution_count": 5,
   "metadata": {},
   "outputs": [
    {
     "name": "stdout",
     "output_type": "stream",
     "text": [
      "1 2 4 6 8 10 11 \n"
     ]
    }
   ],
   "source": [
    "clist.insert_after(11, 10)\n",
    "clist.display_list()"
   ]
  },
  {
   "cell_type": "markdown",
   "metadata": {},
   "source": [
    "**Deleting from list**"
   ]
  },
  {
   "cell_type": "code",
   "execution_count": null,
   "metadata": {},
   "outputs": [],
   "source": []
  }
 ],
 "metadata": {
  "kernelspec": {
   "display_name": "Python 3",
   "language": "python",
   "name": "python3"
  },
  "language_info": {
   "codemirror_mode": {
    "name": "ipython",
    "version": 3
   },
   "file_extension": ".py",
   "mimetype": "text/x-python",
   "name": "python",
   "nbconvert_exporter": "python",
   "pygments_lexer": "ipython3",
   "version": "3.7.4"
  }
 },
 "nbformat": 4,
 "nbformat_minor": 2
}
