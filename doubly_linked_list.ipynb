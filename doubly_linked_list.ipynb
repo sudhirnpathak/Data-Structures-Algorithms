{
 "cells": [
  {
   "cell_type": "markdown",
   "metadata": {},
   "source": [
    "# Double Linked List"
   ]
  },
  {
   "cell_type": "markdown",
   "metadata": {},
   "source": [
    "Let's first define the node class"
   ]
  },
  {
   "cell_type": "code",
   "execution_count": 1,
   "metadata": {},
   "outputs": [],
   "source": [
    "class node:\n",
    "    \n",
    "    def __init__(self, value):\n",
    "        self.info = value\n",
    "        self.prev = None                # attribute referencing to previous node\n",
    "        self.next = None                # attribute referencing to next node"
   ]
  },
  {
   "cell_type": "markdown",
   "metadata": {},
   "source": [
    "Now, let's define the double linked list class"
   ]
  },
  {
   "cell_type": "code",
   "execution_count": 2,
   "metadata": {},
   "outputs": [],
   "source": [
    "class double_linked_list:\n",
    "    \n",
    "    def __init__(self):\n",
    "        self.start = None               # start refers to the first node of the list\n",
    "        \n",
    "    \n",
    "    def display_list(self):\n",
    "        \n",
    "        if self.start is None:\n",
    "            print('List is empty')\n",
    "            return\n",
    "        \n",
    "        p = self.start\n",
    "        while p is not None:\n",
    "            print(p.info, end = ' ')\n",
    "            p = p.next\n",
    "            \n",
    "        print()\n",
    "        \n",
    "    \n",
    "    def insert_in_beginning(self, data):\n",
    "        \n",
    "        temp = node(data)\n",
    "        temp.next = self.start\n",
    "        self.start.prev = temp\n",
    "        self.start = temp\n",
    "        \n",
    "    def insert_in_empty_list(self, data):\n",
    "        \n",
    "        temp = node(data)\n",
    "        self.start = temp\n",
    "        \n",
    "    def insert_at_end(self, data):\n",
    "        \n",
    "        p = self.start\n",
    "        while p.next is not None:\n",
    "            p = p.next\n",
    "        \n",
    "        temp = node(data)\n",
    "        p.next = temp\n",
    "        temp.prev = p\n",
    "        \n",
    "    def create_list(self, elements):\n",
    "        \n",
    "        if len(elements) == 0:\n",
    "            return\n",
    "        else:\n",
    "            self.insert_in_empty_list(elements[0])\n",
    "            for i in range(1, len(elements)):\n",
    "                self.insert_at_end(elements[i])\n",
    "                \n",
    "    def insert_after(self, data, x):                # insert a node, after the node that contains value x\n",
    "        \n",
    "        p = self.start\n",
    "        while p is not None:\n",
    "            if p.info == x:\n",
    "                break\n",
    "            p = p.next\n",
    "            \n",
    "        if p is None:\n",
    "            print(\"Elmement does not exist: \", x)\n",
    "        else:\n",
    "            temp = node(data)\n",
    "            temp.next = p.next\n",
    "            temp.prev = p\n",
    "            if p.next is not None:\n",
    "                p.next.prev = temp                 # should not be done when p refers to the last node\n",
    "            p.next = temp\n",
    "         \n",
    "        \n",
    "    def insert_before(self, data, x):               # insert a node, before the node that contains x\n",
    "        \n",
    "        if self.start is None:\n",
    "            print('List is empty')\n",
    "            return\n",
    "        \n",
    "        if self.start.info == x:\n",
    "            temp = node(data)\n",
    "            temp.next = self.start\n",
    "            self.start.prev = temp\n",
    "            self.start = temp\n",
    "            return\n",
    "        \n",
    "        p = self.start\n",
    "        while p is not None:\n",
    "            if p.info == x:\n",
    "                break\n",
    "            p = p.next\n",
    "            \n",
    "        if p is None:\n",
    "            print('Element does not exist', x)\n",
    "        else:\n",
    "            temp = node(data)\n",
    "            temp.prev = p.prev\n",
    "            temp.next = p\n",
    "            p.prev.next = temp\n",
    "            p.prev = temp\n",
    "            \n",
    "    \n",
    "    def delete_first_node(self):\n",
    "        \n",
    "        if self.start is None:                  # no element in the list\n",
    "            print('The list is empty')\n",
    "        elif self.start.next is None:           # if there is only one element\n",
    "            self.start = None\n",
    "        else:\n",
    "            self.start = self.start.next\n",
    "            self.start.prev = None\n",
    "            \n",
    "    \n",
    "    def delete_last_node(self):\n",
    "        \n",
    "        if self.start is None:                 # no element in the list\n",
    "            print('The list is empty')\n",
    "        elif self.start.next is None:          # only one element in the list\n",
    "            self.start = None\n",
    "        else:\n",
    "            p = self.start\n",
    "            while p.next is not None:\n",
    "                p = p.next\n",
    "            p.prev.next = None\n",
    "            \n",
    "            \n",
    "    def delete_node(self, x):                         # delete the node that contains x\n",
    "        \n",
    "        if self.start is None:                        # list is empty\n",
    "            print('List is empty')\n",
    "        \n",
    "        elif self.start.next is None:                 # list has only one element\n",
    "            if self.start.info == x:\n",
    "                self.start = None\n",
    "            else:\n",
    "                print('Element does not exist')\n",
    "        \n",
    "        else:                                         # list has more than one element\n",
    "            if self.start.info == x:                  # first element\n",
    "                self.start = self.start.next\n",
    "                self.start.prev = None\n",
    "            else:\n",
    "                p = self.start.next \n",
    "                while p.next is not None:\n",
    "                    if p.info == x:\n",
    "                        break\n",
    "                    p = p.next\n",
    "                    \n",
    "                if p.next is not None:                # node to be deleted is in between\n",
    "                    p.prev.next = p.next\n",
    "                    p.next.prev = p.prev\n",
    "                else:                                 # p refers to last node\n",
    "                    if p.info == x:\n",
    "                        p.prev.next = None\n",
    "                    else:\n",
    "                        print('Element does not exist')\n",
    "                        \n",
    "                        \n",
    "    def reverse_list(self):\n",
    "        \n",
    "        p = self.start\n",
    "        while p.next is not None:\n",
    "            temp = p.next\n",
    "            p.next = p.prev\n",
    "            p.prev = temp\n",
    "            p = p.prev\n",
    "        p.next = p.prev\n",
    "        p.prev = None\n",
    "        self.start = p\n",
    "                    "
   ]
  },
  {
   "cell_type": "markdown",
   "metadata": {},
   "source": [
    "**Creating a list**"
   ]
  },
  {
   "cell_type": "code",
   "execution_count": 3,
   "metadata": {},
   "outputs": [
    {
     "name": "stdout",
     "output_type": "stream",
     "text": [
      "2 4 6 8 10 \n"
     ]
    }
   ],
   "source": [
    "clist = double_linked_list()\n",
    "clist_elements = [2, 4, 6, 8, 10]\n",
    "clist.create_list(clist_elements)\n",
    "clist.display_list()"
   ]
  },
  {
   "cell_type": "markdown",
   "metadata": {},
   "source": [
    "**Inserting new nodes**"
   ]
  },
  {
   "cell_type": "code",
   "execution_count": 4,
   "metadata": {},
   "outputs": [
    {
     "name": "stdout",
     "output_type": "stream",
     "text": [
      "1 2 4 6 8 10 \n"
     ]
    }
   ],
   "source": [
    "clist.insert_in_beginning(1)\n",
    "clist.display_list()"
   ]
  },
  {
   "cell_type": "code",
   "execution_count": 5,
   "metadata": {},
   "outputs": [
    {
     "name": "stdout",
     "output_type": "stream",
     "text": [
      "1 2 4 6 8 10 11 \n"
     ]
    }
   ],
   "source": [
    "clist.insert_at_end(11)\n",
    "clist.display_list()"
   ]
  },
  {
   "cell_type": "code",
   "execution_count": 6,
   "metadata": {},
   "outputs": [
    {
     "name": "stdout",
     "output_type": "stream",
     "text": [
      "1 2 4 5 6 8 10 11 \n"
     ]
    }
   ],
   "source": [
    "clist.insert_after(5, 4)\n",
    "clist.display_list()"
   ]
  },
  {
   "cell_type": "code",
   "execution_count": 7,
   "metadata": {},
   "outputs": [
    {
     "name": "stdout",
     "output_type": "stream",
     "text": [
      "1 2 3 4 5 6 8 10 11 \n"
     ]
    }
   ],
   "source": [
    "clist.insert_before(3, 4)\n",
    "clist.display_list()"
   ]
  },
  {
   "cell_type": "markdown",
   "metadata": {},
   "source": [
    "**Deleting nodes**"
   ]
  },
  {
   "cell_type": "code",
   "execution_count": 8,
   "metadata": {},
   "outputs": [
    {
     "name": "stdout",
     "output_type": "stream",
     "text": [
      "2 3 4 5 6 8 10 11 \n"
     ]
    }
   ],
   "source": [
    "clist.delete_first_node()\n",
    "clist.display_list()"
   ]
  },
  {
   "cell_type": "code",
   "execution_count": 9,
   "metadata": {},
   "outputs": [
    {
     "name": "stdout",
     "output_type": "stream",
     "text": [
      "2 3 4 5 6 8 10 \n"
     ]
    }
   ],
   "source": [
    "clist.delete_last_node()\n",
    "clist.display_list()"
   ]
  },
  {
   "cell_type": "code",
   "execution_count": 10,
   "metadata": {},
   "outputs": [
    {
     "name": "stdout",
     "output_type": "stream",
     "text": [
      "3 4 5 6 8 10 \n",
      "3 4 5 6 8 \n",
      "3 4 6 8 \n"
     ]
    }
   ],
   "source": [
    "clist.delete_node(2)\n",
    "clist.display_list()\n",
    "\n",
    "clist.delete_node(10)\n",
    "clist.display_list()\n",
    "\n",
    "clist.delete_node(5)\n",
    "clist.display_list()"
   ]
  },
  {
   "cell_type": "markdown",
   "metadata": {},
   "source": [
    "**Reversing a list**"
   ]
  },
  {
   "cell_type": "code",
   "execution_count": 11,
   "metadata": {},
   "outputs": [
    {
     "name": "stdout",
     "output_type": "stream",
     "text": [
      "8 6 4 3 \n",
      "3 4 6 8 \n"
     ]
    }
   ],
   "source": [
    "clist.reverse_list()\n",
    "clist.display_list()\n",
    "\n",
    "clist.reverse_list()\n",
    "clist.display_list()"
   ]
  }
 ],
 "metadata": {
  "kernelspec": {
   "display_name": "Python 3",
   "language": "python",
   "name": "python3"
  },
  "language_info": {
   "codemirror_mode": {
    "name": "ipython",
    "version": 3
   },
   "file_extension": ".py",
   "mimetype": "text/x-python",
   "name": "python",
   "nbconvert_exporter": "python",
   "pygments_lexer": "ipython3",
   "version": "3.7.4"
  }
 },
 "nbformat": 4,
 "nbformat_minor": 2
}
